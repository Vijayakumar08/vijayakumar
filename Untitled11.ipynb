{
  "nbformat": 4,
  "nbformat_minor": 0,
  "metadata": {
    "colab": {
      "provenance": []
    },
    "kernelspec": {
      "name": "python3",
      "display_name": "Python 3"
    },
    "language_info": {
      "name": "python"
    }
  },
  "cells": [
    {
      "cell_type": "code",
      "execution_count": null,
      "metadata": {
        "id": "y73P881PpR6U"
      },
      "outputs": [],
      "source": [
        "#Importing modules\n",
        "from textblob import TextBlob\n",
        "from tkinter import *\n",
        "\n",
        "\n",
        "#Function to check the spelling and show the corrected spelling\n",
        "def checkSpelling():\n",
        "    a = text.get() #Getting the word user entered    \n",
        "    b = TextBlob(a) #Getting the object for the word\n",
        "    correctedText.set(\"The corrected word is: \"+str(b.correct())) #Showing the corrected word\n",
        "    \n",
        "#Creating the window \n",
        "wn = Tk() \n",
        "wn.title(\"Spell Checker\")\n",
        "wn.geometry('500x250')\n",
        "wn.config(bg='SlateGray1')\n",
        "\n",
        "#Creating the variables to get the word and set the correct word\n",
        "text=StringVar(wn)\n",
        "\n",
        "correctedText =StringVar(wn)\n",
        "\n",
        "#The main label\n",
        "Label(wn, text='Spell Checker',bg='SlateGray1',\n",
        "  fg='gray30', font=('Times', 20,'bold')).place(x=100, y=10)\n",
        "\n",
        "#Getting the input of word from the user\n",
        "Label(wn, text='Please enter the word',bg='SlateGray1',font=('calibre',13,'normal'), anchor=\"e\", justify=LEFT).place(x=20, y=70)\n",
        "\n",
        "Entry(wn,textvariable=text, width=35,font=('calibre',13,'normal')).place(x=20,y=110)\n",
        "\n",
        "#Label to show the correct word\n",
        "opLabel = Label(wn, textvariable=correctedText, bg='SlateGray1',anchor=\"e\",font=('calibre',13,'normal'), justify=LEFT).place(x=20, y=130)\n",
        "\n",
        "#Button to do the spell check\n",
        "Button(wn, text=\"Click Me\", bg='SlateGray4',font=('calibre', 13),\n",
        "   command=checkSpelling).place(x=230, y=190)\n",
        "\n",
        "#Runs the window till it is closed by the user\n",
        "wn.mainloop()\n",
        "Footer\n",
        "© 2023 GitHub, Inc.\n",
        "Footer navigation\n",
        "Terms\n",
        "Privacy\n",
        "Security\n"
      ]
    }
  ]
}