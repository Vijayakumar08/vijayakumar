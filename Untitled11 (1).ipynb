{
  "nbformat": 4,
  "nbformat_minor": 0,
  "metadata": {
    "colab": {
      "provenance": []
    },
    "kernelspec": {
      "name": "python3",
      "display_name": "Python 3"
    },
    "language_info": {
      "name": "python"
    }
  },
  "cells": [
    {
      "cell_type": "code",
      "source": [
        "import os, math\n",
        "import pandas as pd\n",
        "import numpy as np"
      ],
      "metadata": {
        "id": "hNNaP1qoqIWd"
      },
      "execution_count": null,
      "outputs": []
    },
    {
      "cell_type": "code",
      "source": [
        "from gensim.models import Word2Vec as w2v\n",
        "from os import path as osp\n",
        "\n",
        "root = osp.dirname(os.getcwd())\n",
        "model = w2v.load(osp.join(root,'model/stackexchange_model'))"
      ],
      "metadata": {
        "id": "iZAQxt0QqJAM"
      },
      "execution_count": null,
      "outputs": []
    },
    {
      "cell_type": "code",
      "source": [
        "def get_closest(word, n):\n",
        "    '''Get n most similar words by words.'''\n",
        "    #This function can easily be expanded to get similar words to phrases--\n",
        "    #using sent2vec() method defined in WithWord2Vec notebook. \n",
        "    word = word.lower()\n",
        "    words = [word]\n",
        "    similar_vals = [1]\n",
        "    try:\n",
        "        similar_list = model.most_similar(positive=[word],topn=n)\n",
        "        \n",
        "        for tupl in similar_list:\n",
        "            words.append(tupl[0])\n",
        "            similar_vals.append(tupl[1])\n",
        "    except:\n",
        "        #If word not in vocabulary return same word and 1 similarity-- \n",
        "        #see initialisation of words, similarities.\n",
        "        pass\n",
        "    \n",
        "    return words, similar_vals"
      ],
      "metadata": {
        "id": "AiWUAaDyqL-N"
      },
      "execution_count": null,
      "outputs": []
    },
    {
      "cell_type": "code",
      "source": [
        "cvs = pd.read_csv('prc_data.csv', sep='\\t')\n",
        "cvs = cvs.set_index('Unnamed: 0')\n",
        "\n",
        "prc_description = \"software engineer c c java uml xamp agile defencecommunication client successful expand company develop air defence system information system target system communication system require additional software engineer support design evolution requirement software code identification test requirement development component test harness support design code review activity derisk design evolution qualification software engineer degree software engineering computer science math physics equivalent good degree pref 1st 1 meng equiv essential requirement software engineer experience follow object orient analysis design preferably uml unix linux window c c java html php candidate defence background experience agile development advantage experience xamp technology useful desirable requirement software engineer experience follow realtime design mathematical algorithm cod network protocol oo case tool structure design method datum voice network computer telephony integration cti appreciation follow test technique strategy configuration management personal attribute flexibility adaptability team player good communication skill discipline company provide excellent career prospect career development recent software graduate consider role keyword software engineer c c java realtime embed uml linux unix oo agile xamp defence communication system \"\n",
        "word_value = {}\n",
        "similar_words_needed = 2\n",
        "for word in prc_description.split():\n",
        "    similar_words, similarity = get_closest(word, similar_words_needed)\n",
        "    for i in range(len(similar_words)):\n",
        "        word_value[similar_words[i]] = word_value.get(similar_words[i], 0)+similarity[i]\n",
        "        print(similar_words[i], word_value[similar_words[i]])"
      ],
      "metadata": {
        "id": "_BNsqFpDqQXR"
      },
      "execution_count": null,
      "outputs": []
    },
    {
      "cell_type": "code",
      "source": [
        "import spacy\n",
        "%matplotlib inline\n",
        "nlp = spacy.load('en_core_web_md')\n",
        "import pandas as pd\n",
        "import numpy as np\n",
        "jd = pd.read_csv('jd.csv', usecols=[0,1])\n",
        "jd"
      ],
      "metadata": {
        "id": "vwJdYnUoqUQH"
      },
      "execution_count": null,
      "outputs": []
    }
  ]
}